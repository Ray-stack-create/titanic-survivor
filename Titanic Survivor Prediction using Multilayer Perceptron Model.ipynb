{
 "cells": [
  {
   "cell_type": "code",
   "execution_count": 1,
   "id": "aac9af66",
   "metadata": {},
   "outputs": [],
   "source": [
    "import pandas as pd\n",
    "import numpy as np\n",
    "import matplotlib.pyplot as plt\n",
    "import seaborn as sns\n",
    "%matplotlib inline\n",
    "\n",
    "sns.set(rc={\"figure.figsize\":(12,10)})\n",
    "import warnings\n",
    "warnings.filterwarnings(\"ignore\")"
   ]
  },
  {
   "cell_type": "code",
   "execution_count": 2,
   "id": "af078232",
   "metadata": {},
   "outputs": [],
   "source": [
    "import random\n",
    "random.seed(101)\n"
   ]
  },
  {
   "cell_type": "markdown",
   "id": "efc6ec5d",
   "metadata": {},
   "source": [
    "# Loading Data"
   ]
  },
  {
   "cell_type": "code",
   "execution_count": 3,
   "id": "aeeb7aa6",
   "metadata": {},
   "outputs": [
    {
     "data": {
      "text/html": [
       "<div>\n",
       "<style scoped>\n",
       "    .dataframe tbody tr th:only-of-type {\n",
       "        vertical-align: middle;\n",
       "    }\n",
       "\n",
       "    .dataframe tbody tr th {\n",
       "        vertical-align: top;\n",
       "    }\n",
       "\n",
       "    .dataframe thead th {\n",
       "        text-align: right;\n",
       "    }\n",
       "</style>\n",
       "<table border=\"1\" class=\"dataframe\">\n",
       "  <thead>\n",
       "    <tr style=\"text-align: right;\">\n",
       "      <th></th>\n",
       "      <th>PassengerId</th>\n",
       "      <th>Survived</th>\n",
       "      <th>Pclass</th>\n",
       "      <th>Name</th>\n",
       "      <th>Sex</th>\n",
       "      <th>Age</th>\n",
       "      <th>SibSp</th>\n",
       "      <th>Parch</th>\n",
       "      <th>Ticket</th>\n",
       "      <th>Fare</th>\n",
       "      <th>Cabin</th>\n",
       "      <th>Embarked</th>\n",
       "    </tr>\n",
       "  </thead>\n",
       "  <tbody>\n",
       "    <tr>\n",
       "      <th>0</th>\n",
       "      <td>1</td>\n",
       "      <td>0</td>\n",
       "      <td>3</td>\n",
       "      <td>Braund, Mr. Owen Harris</td>\n",
       "      <td>male</td>\n",
       "      <td>22.0</td>\n",
       "      <td>1</td>\n",
       "      <td>0</td>\n",
       "      <td>A/5 21171</td>\n",
       "      <td>7.2500</td>\n",
       "      <td>NaN</td>\n",
       "      <td>S</td>\n",
       "    </tr>\n",
       "    <tr>\n",
       "      <th>1</th>\n",
       "      <td>2</td>\n",
       "      <td>1</td>\n",
       "      <td>1</td>\n",
       "      <td>Cumings, Mrs. John Bradley (Florence Briggs Th...</td>\n",
       "      <td>female</td>\n",
       "      <td>38.0</td>\n",
       "      <td>1</td>\n",
       "      <td>0</td>\n",
       "      <td>PC 17599</td>\n",
       "      <td>71.2833</td>\n",
       "      <td>C85</td>\n",
       "      <td>C</td>\n",
       "    </tr>\n",
       "    <tr>\n",
       "      <th>2</th>\n",
       "      <td>3</td>\n",
       "      <td>1</td>\n",
       "      <td>3</td>\n",
       "      <td>Heikkinen, Miss. Laina</td>\n",
       "      <td>female</td>\n",
       "      <td>26.0</td>\n",
       "      <td>0</td>\n",
       "      <td>0</td>\n",
       "      <td>STON/O2. 3101282</td>\n",
       "      <td>7.9250</td>\n",
       "      <td>NaN</td>\n",
       "      <td>S</td>\n",
       "    </tr>\n",
       "    <tr>\n",
       "      <th>3</th>\n",
       "      <td>4</td>\n",
       "      <td>1</td>\n",
       "      <td>1</td>\n",
       "      <td>Futrelle, Mrs. Jacques Heath (Lily May Peel)</td>\n",
       "      <td>female</td>\n",
       "      <td>35.0</td>\n",
       "      <td>1</td>\n",
       "      <td>0</td>\n",
       "      <td>113803</td>\n",
       "      <td>53.1000</td>\n",
       "      <td>C123</td>\n",
       "      <td>S</td>\n",
       "    </tr>\n",
       "    <tr>\n",
       "      <th>4</th>\n",
       "      <td>5</td>\n",
       "      <td>0</td>\n",
       "      <td>3</td>\n",
       "      <td>Allen, Mr. William Henry</td>\n",
       "      <td>male</td>\n",
       "      <td>35.0</td>\n",
       "      <td>0</td>\n",
       "      <td>0</td>\n",
       "      <td>373450</td>\n",
       "      <td>8.0500</td>\n",
       "      <td>NaN</td>\n",
       "      <td>S</td>\n",
       "    </tr>\n",
       "  </tbody>\n",
       "</table>\n",
       "</div>"
      ],
      "text/plain": [
       "   PassengerId  Survived  Pclass  \\\n",
       "0            1         0       3   \n",
       "1            2         1       1   \n",
       "2            3         1       3   \n",
       "3            4         1       1   \n",
       "4            5         0       3   \n",
       "\n",
       "                                                Name     Sex   Age  SibSp  \\\n",
       "0                            Braund, Mr. Owen Harris    male  22.0      1   \n",
       "1  Cumings, Mrs. John Bradley (Florence Briggs Th...  female  38.0      1   \n",
       "2                             Heikkinen, Miss. Laina  female  26.0      0   \n",
       "3       Futrelle, Mrs. Jacques Heath (Lily May Peel)  female  35.0      1   \n",
       "4                           Allen, Mr. William Henry    male  35.0      0   \n",
       "\n",
       "   Parch            Ticket     Fare Cabin Embarked  \n",
       "0      0         A/5 21171   7.2500   NaN        S  \n",
       "1      0          PC 17599  71.2833   C85        C  \n",
       "2      0  STON/O2. 3101282   7.9250   NaN        S  \n",
       "3      0            113803  53.1000  C123        S  \n",
       "4      0            373450   8.0500   NaN        S  "
      ]
     },
     "execution_count": 3,
     "metadata": {},
     "output_type": "execute_result"
    }
   ],
   "source": [
    "data=pd.read_csv(\"titanic_data.csv\")\n",
    "data.head()"
   ]
  },
  {
   "cell_type": "code",
   "execution_count": 4,
   "id": "121dd521",
   "metadata": {},
   "outputs": [],
   "source": [
    "dict_live={\n",
    "    0:\"Died\",\n",
    "    1:\"Survived\"\n",
    "}\n",
    "\n",
    "dict_sex={\n",
    "    \"male\":0,\n",
    "    \"female\":1\n",
    "}\n",
    "\n",
    "data[\"Bsex\"]=data[\"Sex\"].apply(lambda x: dict_sex[x]) #take one by one value and convert it into numerical value\n",
    "\n",
    "\n",
    "#features\n",
    "features=data[[\"Pclass\",\"Bsex\"]].to_numpy()\n",
    "labels=data[\"Survived\"].to_numpy()"
   ]
  },
  {
   "cell_type": "markdown",
   "id": "4bf8307f",
   "metadata": {},
   "source": [
    "## Splitting data"
   ]
  },
  {
   "cell_type": "code",
   "execution_count": 5,
   "id": "25a37757",
   "metadata": {},
   "outputs": [],
   "source": [
    "from sklearn.model_selection import train_test_split\n",
    "xtrain,xtest,ytrain,ytest=train_test_split(features,labels,test_size=0.30,random_state=0)"
   ]
  },
  {
   "cell_type": "markdown",
   "id": "ed662304",
   "metadata": {},
   "source": [
    "# Multilayer Perceptron"
   ]
  },
  {
   "cell_type": "markdown",
   "id": "0c10bcc4",
   "metadata": {},
   "source": [
    "### Activation Function and Derivation"
   ]
  },
  {
   "cell_type": "code",
   "execution_count": 41,
   "id": "95aeb017",
   "metadata": {},
   "outputs": [],
   "source": [
    "#sigmoid\n",
    "\n",
    "def Sigmoid(x,derivative=False):\n",
    "    if derivative==True:\n",
    "        f=1/(1+np.exp(-x)) * (1- 1/(1+np.exp(-x)))\n",
    "    else:\n",
    "        f=1/(1+np.exp(-x))\n",
    "    return x\n",
    "       \n",
    "    \n",
    "#ReLU\n",
    "\n",
    "def ReLU(x,derivative=False):\n",
    "    if derivative==True:\n",
    "        f=np.heaviside(x,1)\n",
    "    else:\n",
    "        f=np.maximum(x,0)\n",
    "        \n",
    "    return f"
   ]
  },
  {
   "cell_type": "markdown",
   "id": "23108915",
   "metadata": {},
   "source": [
    "#### Training Model"
   ]
  },
  {
   "cell_type": "code",
   "execution_count": 42,
   "id": "1a54ac45",
   "metadata": {},
   "outputs": [],
   "source": [
    "def train_ANN(xtrain,ytrain,h1_units=4,h2_units=4,learning_rate=0.0015):\n",
    "    random.seed(101)\n",
    "    \n",
    "    #hidden layer 1\n",
    "    w1=2*np.random.rand(h1_units,xtrain.shape[1])\n",
    "    b1=np.random.rand(h1_units)\n",
    "    \n",
    "    #hidden layer 2\n",
    "    w2=2*np.random.rand(h2_units,h1_units)\n",
    "    b2=np.random.rand(h2_units)\n",
    "    \n",
    "    #output layer\n",
    "    w_out=2*np.random.rand(h2_units)\n",
    "    b_out=np.random.rand(1)\n",
    "    \n",
    "    loss=[]\n",
    "    vec_y=[]\n",
    "    for i in range(0, xtrain.shape[0]):\n",
    "        x_data=xtrain[i]\n",
    "        \n",
    "        #feed forward\n",
    "        h1=ReLU(np.dot(w1,x_data)+b1) #hidden layer 1 output\n",
    "        h2=ReLU(np.dot(w2,h1)+b2) #hidden layer 2 output\n",
    "        y=Sigmoid(np.dot(w_out,h2)+b_out) #output of the output layer\n",
    "        \n",
    "        #back propagation\n",
    "        delta_out=(y-ytrain[i]*Sigmoid(y,derivative=True))\n",
    "        delta_2=delta_out*w_out*ReLU(h2,derivative=True)\n",
    "        delta_1=np.dot(delta_2,w2)*ReLU(h1,derivative=True)\n",
    "        \n",
    "        #gradient descent\n",
    "        w_out=w_out-learning_rate*delta_out*h2 #output layer\n",
    "        b_out=b_out-learning_rate*delta_out\n",
    "        \n",
    "        #hidden layer 2\n",
    "        w2=w2-learning_rate*np.kron(delta_2,h1).reshape(h2_units,h1_units)\n",
    "        b2=b2-learning_rate*delta_2\n",
    "        \n",
    "        #hidden layer 1\n",
    "        w1=w1-learning_rate*np.kron(delta_1,x_data).reshape(h1_units,x_data.shape[0])\n",
    "        b1=b1-learning_rate*delta_1  \n",
    "        \n",
    "        #cost\n",
    "        loss.append((1/2)*(y-ytrain[i])**2)\n",
    "        vec_y.append(y[0])\n",
    "        \n",
    "    batch_loss=[]\n",
    "    for i in range(0,10):\n",
    "        loss_avg=0\n",
    "        for m in range(0,60):\n",
    "            loss_avg+=vec_y[60*i+m]/60\n",
    "        batch_loss.append(loss_avg)\n",
    "        \n",
    "    plt.figure(figsize=(10,6))\n",
    "    plt.plot(np.arange(1,len(batch_loss)+1),batch_loss)\n",
    "    plt.title(\"Average loss by epoch\")\n",
    "    plt.xlabel(\"Epoch\", fontsize=16)\n",
    "    plt.ylabel(\"loss\",fontsize=16)\n",
    "    \n",
    "    return w1,b1,w2,b2,w_out,b_out,loss\n",
    "        "
   ]
  },
  {
   "cell_type": "code",
   "execution_count": 43,
   "id": "6ab63aba",
   "metadata": {},
   "outputs": [
    {
     "data": {
      "image/png": "[encoded data removed]",
      "text/plain": [
       "<Figure size 1000x600 with 1 Axes>"
      ]
     },
     "metadata": {},
     "output_type": "display_data"
    }
   ],
   "source": [
    "w1,b1,w2,b2,w_out,b_out,loss=train_ANN(xtrain,ytrain)"
   ]
  },
  {
   "cell_type": "markdown",
   "id": "abe8aef3",
   "metadata": {},
   "source": [
    "### Train"
   ]
  },
  {
   "cell_type": "code",
   "execution_count": 44,
   "id": "bdbd6a4b",
   "metadata": {},
   "outputs": [],
   "source": [
    "def ANN_pred(xtest,w1,b1,w2,b2,w_out,b_out):\n",
    "    pred=[]\n",
    "    \n",
    "    for i in range(0,xtest.shape[0]):\n",
    "        x=xtest[i]\n",
    "        \n",
    "         #feed forward\n",
    "        z1=ReLU(np.dot(w1,x)+b1) #hidden layer 1 output\n",
    "        z2=ReLU(np.dot(w2,z1)+b2) #hidden layer 2 output\n",
    "        y=Sigmoid(np.dot(w_out,z2)+b_out) #output of the output layer\n",
    "        \n",
    "        pred.append(np.heaviside(y-0.5,1)[0])\n",
    "        \n",
    "    return np.array(pred)\n",
    "    "
   ]
  },
  {
   "cell_type": "code",
   "execution_count": 45,
   "id": "00b81aa4",
   "metadata": {},
   "outputs": [],
   "source": [
    "prediction=ANN_pred(xtest,w1,b1,w2,b2,w_out,b_out)"
   ]
  },
  {
   "cell_type": "code",
   "execution_count": 46,
   "id": "77b5162c",
   "metadata": {},
   "outputs": [
    {
     "data": {
      "text/plain": [
       "array([0., 0., 0., 0., 0., 0., 0., 0., 0., 0., 0., 0., 0., 0., 0., 0., 0.,\n",
       "       0., 0., 0., 0., 0., 0., 0., 0., 0., 0., 0., 0., 0., 0., 0., 0., 0.,\n",
       "       0., 0., 0., 0., 0., 0., 0., 0., 0., 0., 0., 0., 0., 0., 0., 0., 0.,\n",
       "       0., 0., 0., 0., 0., 0., 0., 0., 0., 0., 0., 0., 0., 0., 0., 0., 0.,\n",
       "       0., 0., 0., 0., 0., 0., 0., 0., 0., 0., 0., 0., 0., 0., 0., 0., 0.,\n",
       "       0., 0., 0., 0., 0., 0., 0., 0., 0., 0., 0., 0., 0., 0., 0., 0., 0.,\n",
       "       0., 0., 0., 0., 0., 0., 0., 0., 0., 0., 0., 0., 0., 0., 0., 0., 0.,\n",
       "       0., 0., 0., 0., 0., 0., 0., 0., 0., 0., 0., 0., 0., 0., 0., 0., 0.,\n",
       "       0., 0., 0., 0., 0., 0., 0., 0., 0., 0., 0., 0., 0., 0., 0., 0., 0.,\n",
       "       0., 0., 0., 0., 0., 0., 0., 0., 0., 0., 0., 0., 0., 0., 0., 0., 0.,\n",
       "       0., 0., 0., 0., 0., 0., 0., 0., 0., 0., 0., 0., 0., 0., 0., 0., 0.,\n",
       "       0., 0., 0., 0., 0., 0., 0., 0., 0., 0., 0., 0., 0., 0., 0., 0., 0.,\n",
       "       0., 0., 0., 0., 0., 0., 0., 0., 0., 0., 0., 0., 0., 0., 0., 0., 0.,\n",
       "       0., 0., 0., 0., 0., 0., 0., 0., 0., 0., 0., 0., 0., 0., 0., 0., 0.,\n",
       "       0., 0., 0., 0., 0., 0., 0., 0., 0., 0., 0., 0., 0., 0., 0., 0., 0.,\n",
       "       0., 0., 0., 0., 0., 0., 0., 0., 0., 0., 0., 0., 0.])"
      ]
     },
     "execution_count": 46,
     "metadata": {},
     "output_type": "execute_result"
    }
   ],
   "source": [
    "prediction"
   ]
  },
  {
   "cell_type": "code",
   "execution_count": 47,
   "id": "6da63b46",
   "metadata": {},
   "outputs": [
    {
     "data": {
      "text/plain": [
       "array([0, 0, 0, 1, 1, 1, 1, 1, 1, 1, 0, 1, 0, 1, 1, 0, 0, 0, 0, 1, 0, 1,\n",
       "       0, 0, 0, 1, 0, 1, 1, 0, 0, 1, 0, 1, 0, 1, 0, 0, 0, 0, 1, 0, 0, 0,\n",
       "       1, 0, 0, 1, 0, 0, 1, 1, 1, 0, 1, 0, 0, 0, 0, 1, 0, 0, 1, 0, 1, 0,\n",
       "       1, 0, 1, 1, 1, 1, 0, 0, 0, 1, 0, 0, 0, 0, 0, 1, 0, 0, 0, 1, 1, 1,\n",
       "       1, 0, 0, 0, 1, 1, 0, 0, 1, 0, 0, 1, 0, 0, 0, 0, 0, 1, 1, 0, 0, 1,\n",
       "       0, 1, 1, 0, 1, 1, 1, 1, 0, 1, 1, 0, 0, 0, 0, 0, 0, 1, 0, 0, 0, 0,\n",
       "       0, 0, 0, 0, 0, 0, 0, 0, 0, 1, 0, 0, 1, 0, 0, 1, 1, 0, 0, 1, 0, 0,\n",
       "       1, 0, 0, 1, 0, 1, 0, 1, 1, 1, 0, 0, 0, 0, 0, 0, 0, 1, 0, 0, 1, 0,\n",
       "       1, 0, 0, 0, 0, 0, 0, 0, 0, 0, 1, 0, 0, 1, 0, 0, 1, 1, 0, 0, 0, 1,\n",
       "       1, 0, 1, 0, 0, 1, 1, 0, 0, 0, 1, 0, 0, 1, 0, 0, 0, 0, 0, 1, 0, 1,\n",
       "       0, 1, 1, 0, 1, 0, 0, 1, 1, 0, 0, 1, 1, 0, 0, 0, 1, 1, 1, 0, 0, 1,\n",
       "       0, 0, 1, 1, 0, 0, 0, 1, 0, 0, 0, 0, 0, 0, 1, 1, 1, 0, 0, 0, 0, 0,\n",
       "       0, 0, 1, 0], dtype=int64)"
      ]
     },
     "execution_count": 47,
     "metadata": {},
     "output_type": "execute_result"
    }
   ],
   "source": [
    "ytest"
   ]
  },
  {
   "cell_type": "code",
   "execution_count": null,
   "id": "fd040e97",
   "metadata": {},
   "outputs": [],
   "source": []
  }
 ],
 "metadata": {
  "kernelspec": {
   "display_name": "Python 3 (ipykernel)",
   "language": "python",
   "name": "python3"
  },
  "language_info": {
   "codemirror_mode": {
    "name": "ipython",
    "version": 3
   },
   "file_extension": ".py",
   "mimetype": "text/x-python",
   "name": "python",
   "nbconvert_exporter": "python",
   "pygments_lexer": "ipython3",
   "version": "3.11.4"
  }
 },
 "nbformat": 4,
 "nbformat_minor": 5
}
